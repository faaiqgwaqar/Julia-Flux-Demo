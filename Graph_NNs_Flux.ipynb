{
 "cells": [
  {
   "cell_type": "code",
   "execution_count": 18,
   "metadata": {},
   "outputs": [],
   "source": [
    "using Flux\n",
    "using GeometricFlux\n",
    "using Xtals\n",
    "using ProgressMeter\n",
    "using JLD2"
   ]
  },
  {
   "cell_type": "code",
   "execution_count": 8,
   "metadata": {},
   "outputs": [
    {
     "data": {
      "text/plain": [
       "\".\""
      ]
     },
     "execution_count": 8,
     "metadata": {},
     "output_type": "execute_result"
    }
   ],
   "source": [
    "@eval Xtals PATH_TO_CRYSTALS = \"Crystal_Information_Files\"\n",
    "@eval Xtals PATH_TO_DATA = \".\""
   ]
  },
  {
   "cell_type": "code",
   "execution_count": 12,
   "metadata": {},
   "outputs": [
    {
     "data": {
      "text/plain": [
       "12-element Vector{String}:\n",
       " \"ABAVIJ_clean.cif\"\n",
       " \"ABAYIO_clean.cif\"\n",
       " \"ABAYOU_clean.cif\"\n",
       " \"ABEFUL_clean.cif\"\n",
       " \"ABESUX_clean.cif\"\n",
       " \"ABETAE_clean.cif\"\n",
       " \"ABETIN_clean.cif\"\n",
       " \"ABEXEM_clean.cif\"\n",
       " \"ABEXEN_clean.cif\"\n",
       " \"ABEXIQ_clean.cif\"\n",
       " \"ABEXOW_clean.cif\"\n",
       " \"ABEXUC_clean.cif\""
      ]
     },
     "execution_count": 12,
     "metadata": {},
     "output_type": "execute_result"
    }
   ],
   "source": [
    "db_xtals = readdir(\"Crystal_Information_Files\")"
   ]
  },
  {
   "cell_type": "code",
   "execution_count": 14,
   "metadata": {},
   "outputs": [
    {
     "name": "stdout",
     "output_type": "stream",
     "text": [
      "Length of converted_xtals: 12\n"
     ]
    }
   ],
   "source": [
    "converted_xtals = Array{Crystal,1}()\n",
    "converted_xtals = [Crystal(i) for i in db_xtals]\n",
    "println(\"Length of converted_xtals: \", length(converted_xtals))\n",
    "@assert length(converted_xtals) == length(db_xtals)"
   ]
  },
  {
   "cell_type": "code",
   "execution_count": 11,
   "metadata": {},
   "outputs": [
    {
     "data": {
      "text/plain": [
       "write_adjacency_matrix (generic function with 1 method)"
      ]
     },
     "execution_count": 11,
     "metadata": {},
     "output_type": "execute_result"
    }
   ],
   "source": [
    "function write_adjacency_matrix(xtal::Crystal)\n",
    "    try\n",
    "        strip_numbers_from_atom_labels!(xtal)\n",
    "        remove_bonds!(xtal)\n",
    "        infer_bonds!(xtal, true)\n",
    "    catch err\n",
    "        print(\"infer_bonds_error -> MOF not usable\")\n",
    "        return 0\n",
    "    end\n",
    "    \n",
    "    adj_mat = Matrix{Float32}(adjacency_matrix(xtal.bonds))\n",
    "    return adj_mat\n",
    "end"
   ]
  },
  {
   "cell_type": "code",
   "execution_count": 20,
   "metadata": {},
   "outputs": [
    {
     "data": {
      "text/plain": [
       "\"Graphs\""
      ]
     },
     "execution_count": 20,
     "metadata": {},
     "output_type": "execute_result"
    }
   ],
   "source": [
    "isdir(\"Graphs\") ? rm(\"Graphs\", force = true, recursive = true) : nothing\n",
    "mkdir(\"Graphs\")"
   ]
  },
  {
   "cell_type": "code",
   "execution_count": 21,
   "metadata": {},
   "outputs": [
    {
     "name": "stderr",
     "output_type": "stream",
     "text": [
      "\u001b[32mProgress: 100%|█████████████████████████████████████████| Time: 0:00:06\u001b[39m\n"
     ]
    }
   ],
   "source": [
    "@showprogress for xtal in converted_xtals\n",
    "    name = chop(xtal.name, tail=4)\n",
    "    A = write_adjacency_matrix(xtal)\n",
    "    if A != 0\n",
    "         @save joinpath(\"Graphs\", string(name, \"_A.jld2\")) A\n",
    "    end\n",
    "end"
   ]
  },
  {
   "cell_type": "code",
   "execution_count": null,
   "metadata": {},
   "outputs": [],
   "source": []
  }
 ],
 "metadata": {
  "kernelspec": {
   "display_name": "Julia 1.6.0",
   "language": "julia",
   "name": "julia-1.6"
  },
  "language_info": {
   "file_extension": ".jl",
   "mimetype": "application/julia",
   "name": "julia",
   "version": "1.6.0"
  }
 },
 "nbformat": 4,
 "nbformat_minor": 4
}
